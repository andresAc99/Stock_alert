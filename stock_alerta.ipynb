{
 "cells": [
  {
   "cell_type": "code",
   "execution_count": 1,
   "metadata": {},
   "outputs": [],
   "source": [
    "#!pip3 install twilio"
   ]
  },
  {
   "cell_type": "code",
   "execution_count": 2,
   "metadata": {},
   "outputs": [],
   "source": [
    "#pip install yfinance\n",
    "#pip install ta"
   ]
  },
  {
   "cell_type": "code",
   "execution_count": 3,
   "metadata": {},
   "outputs": [],
   "source": [
    "import os\n",
    "from twilio.rest import Client\n",
    "from twilio_config import *\n",
    "import time\n",
    "\n",
    "from requests import Request, Session\n",
    "from requests.exceptions import ConnectionError, Timeout, TooManyRedirects\n",
    "import json\n",
    "\n",
    "import yfinance as yf\n",
    "import numpy as np # linear algebra\n",
    "import pandas as pd\n",
    "import numpy as np\n",
    "import ta  # Technical Analysis library\n",
    "from sklearn.preprocessing import MinMaxScaler\n",
    "from datetime import date\n",
    "from datetime import datetime\n",
    "from datetime import timedelta"
   ]
  },
  {
   "cell_type": "code",
   "execution_count": 5,
   "metadata": {},
   "outputs": [],
   "source": [
    "#Día actual\n",
    "today = date.today()"
   ]
  },
  {
   "cell_type": "code",
   "execution_count": 6,
   "metadata": {},
   "outputs": [
    {
     "name": "stdout",
     "output_type": "stream",
     "text": [
      "2025-01-06\n"
     ]
    }
   ],
   "source": [
    "print(today)"
   ]
  },
  {
   "cell_type": "code",
   "execution_count": 7,
   "metadata": {},
   "outputs": [],
   "source": [
    "#Día 3 atras \n",
    "yesterday = today - timedelta(days = 3)"
   ]
  },
  {
   "cell_type": "code",
   "execution_count": 8,
   "metadata": {},
   "outputs": [
    {
     "name": "stdout",
     "output_type": "stream",
     "text": [
      "2025-01-03\n"
     ]
    }
   ],
   "source": [
    "print(yesterday)"
   ]
  },
  {
   "cell_type": "code",
   "execution_count": 9,
   "metadata": {},
   "outputs": [],
   "source": [
    "# Define the tickers\n",
    "tickers = ['DVA', 'NU', 'AMD', 'QCOM', 'JXN']"
   ]
  },
  {
   "cell_type": "code",
   "execution_count": 10,
   "metadata": {},
   "outputs": [],
   "source": [
    "# Define the date range (yesterday to today)\n",
    "today = datetime.today().strftime('%Y-%m-%d')\n",
    "yesterday = (datetime.today() - timedelta(days=3)).strftime('%Y-%m-%d')"
   ]
  },
  {
   "cell_type": "code",
   "execution_count": 11,
   "metadata": {},
   "outputs": [
    {
     "name": "stderr",
     "output_type": "stream",
     "text": [
      "[*********************100%***********************]  5 of 5 completed\n"
     ]
    }
   ],
   "source": [
    "# Download data for all tickers\n",
    "new_data = yf.download(tickers, start=yesterday, end=today)"
   ]
  },
  {
   "cell_type": "code",
   "execution_count": 12,
   "metadata": {},
   "outputs": [],
   "source": [
    "# Select only the 'Close' column\n",
    "close_data = new_data['Close']"
   ]
  },
  {
   "cell_type": "code",
   "execution_count": 28,
   "metadata": {},
   "outputs": [
    {
     "data": {
      "text/plain": [
       "'Ticker             AMD         DVA        JXN     NU        QCOM\\nDate                                                            \\n2025-01-03  125.370003  152.820007  89.360001  10.97  157.830002'"
      ]
     },
     "execution_count": 28,
     "metadata": {},
     "output_type": "execute_result"
    }
   ],
   "source": [
    "str(close_data)"
   ]
  },
  {
   "cell_type": "code",
   "execution_count": 13,
   "metadata": {},
   "outputs": [
    {
     "name": "stdout",
     "output_type": "stream",
     "text": [
      "Ticker             AMD         DVA        JXN     NU        QCOM\n",
      "Date                                                            \n",
      "2025-01-03  125.370003  152.820007  89.360001  10.97  157.830002\n"
     ]
    }
   ],
   "source": [
    "# Preview the close data\n",
    "print(close_data.head())"
   ]
  },
  {
   "cell_type": "code",
   "execution_count": 35,
   "metadata": {},
   "outputs": [],
   "source": [
    "close_data_reset = close_data.reset_index()  # To turn the 'Date' index into a column\n",
    "melted_data = pd.melt(close_data_reset, id_vars=['Date'], value_vars=tickers, \n",
    "                      var_name='Ticker', value_name='Price')"
   ]
  },
  {
   "cell_type": "code",
   "execution_count": 56,
   "metadata": {},
   "outputs": [],
   "source": [
    "result = melted_data[['Ticker', 'Price']]"
   ]
  },
  {
   "cell_type": "code",
   "execution_count": 59,
   "metadata": {},
   "outputs": [
    {
     "data": {
      "text/plain": [
       "'\\nHola! \\n\\n\\nEl tu tracking stock del: 2025-01-03 es: \\n\\n\\n   Ticker       Price\\n0    DVA  152.820007\\n1     NU   10.970000\\n2    AMD  125.370003\\n3   QCOM  157.830002\\n4    JXN   89.360001'"
      ]
     },
     "execution_count": 59,
     "metadata": {},
     "output_type": "execute_result"
    }
   ],
   "source": [
    "# Create the message with date and close data\n",
    "messagex = '\\nHola! \\n\\n\\nEl tu tracking stock del: ' + yesterday +' es: \\n\\n\\n ' + str(result)\n",
    "messagex"
   ]
  },
  {
   "cell_type": "code",
   "execution_count": 60,
   "metadata": {},
   "outputs": [
    {
     "data": {
      "text/plain": [
       "'+1 269 482 3231'"
      ]
     },
     "execution_count": 60,
     "metadata": {},
     "output_type": "execute_result"
    }
   ],
   "source": [
    "PHONE_NUMBER"
   ]
  },
  {
   "cell_type": "code",
   "execution_count": 61,
   "metadata": {},
   "outputs": [
    {
     "name": "stdout",
     "output_type": "stream",
     "text": [
      "Mensaje Enviado SM35a3453d824039314a587ee7ed5b124f\n"
     ]
    }
   ],
   "source": [
    "time.sleep(2)\n",
    "account_sid = TWILIO_ACCOUNT_SID \n",
    "auth_token = TWILIO_AUTH_TOKEN\n",
    "\n",
    "client = Client(account_sid, auth_token)\n",
    "\n",
    "message = client.messages \\\n",
    "                .create(\n",
    "                     body= messagex,\n",
    "                     from_=PHONE_NUMBER,\n",
    "                     to='+51908882420'\n",
    "                 )\n",
    "\n",
    "print('Mensaje Enviado ' + message.sid)"
   ]
  },
  {
   "cell_type": "code",
   "execution_count": null,
   "metadata": {},
   "outputs": [],
   "source": []
  },
  {
   "cell_type": "code",
   "execution_count": null,
   "metadata": {},
   "outputs": [],
   "source": []
  }
 ],
 "metadata": {
  "kernelspec": {
   "display_name": "Python 3 (ipykernel)",
   "language": "python",
   "name": "python3"
  },
  "language_info": {
   "codemirror_mode": {
    "name": "ipython",
    "version": 3
   },
   "file_extension": ".py",
   "mimetype": "text/x-python",
   "name": "python",
   "nbconvert_exporter": "python",
   "pygments_lexer": "ipython3",
   "version": "3.12.7"
  }
 },
 "nbformat": 4,
 "nbformat_minor": 4
}
